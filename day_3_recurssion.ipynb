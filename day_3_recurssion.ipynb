{
  "nbformat": 4,
  "nbformat_minor": 0,
  "metadata": {
    "colab": {
      "provenance": []
    },
    "kernelspec": {
      "name": "python3",
      "display_name": "Python 3"
    },
    "language_info": {
      "name": "python"
    }
  },
  "cells": [
    {
      "cell_type": "code",
      "execution_count": null,
      "metadata": {
        "colab": {
          "base_uri": "https://localhost:8080/"
        },
        "id": "W7B4_5fhsa3o",
        "outputId": "67327e22-3c7e-48f6-bfb0-7f67c0090782",
        "collapsed": true
      },
      "outputs": [
        {
          "output_type": "execute_result",
          "data": {
            "text/plain": [
              "-7"
            ]
          },
          "metadata": {},
          "execution_count": 11
        }
      ],
      "source": [
        "#-----------fabinoccci series----------\n",
        "def Fabinocci(index):\n",
        "  if index<=1:\n",
        "    return index\n",
        "  else:\n",
        "    return ((Fabinocci(index-1)+(Fabinocci(index-2))))\n",
        "Fabinocci(-7)"
      ]
    },
    {
      "cell_type": "code",
      "source": [
        "def EvenNumber(num):\n",
        "  if num==2:\n",
        "    return num\n",
        "  else:\n",
        "    print(num)\n",
        "    return EvenNumber(num-2)\n",
        "\n",
        "EvenNumber(8)"
      ],
      "metadata": {
        "id": "--FSz58bt-0H",
        "colab": {
          "base_uri": "https://localhost:8080/"
        },
        "outputId": "f1a23ad5-201b-4bf1-8fce-3e32f5f75bc2",
        "collapsed": true
      },
      "execution_count": null,
      "outputs": [
        {
          "output_type": "stream",
          "name": "stdout",
          "text": [
            "8\n",
            "6\n",
            "4\n"
          ]
        },
        {
          "output_type": "execute_result",
          "data": {
            "text/plain": [
              "2"
            ]
          },
          "metadata": {},
          "execution_count": 31
        }
      ]
    },
    {
      "cell_type": "code",
      "source": [
        "#--------------------fabinocci using iteration--------------\n",
        "def fabinocci(idx):\n",
        "  seq=[0,1]\n",
        "  for i in range(idx):\n",
        "    seq.append(seq[-1]+seq[-2])\n",
        "    print(seq)\n",
        "  return seq[-2]\n",
        "fabinocci(8)\n"
      ],
      "metadata": {
        "id": "G6gbi9KXt-m8",
        "colab": {
          "base_uri": "https://localhost:8080/"
        },
        "outputId": "67a998db-3bd2-47f6-bfdb-f929eb2080eb",
        "collapsed": true
      },
      "execution_count": null,
      "outputs": [
        {
          "output_type": "stream",
          "name": "stdout",
          "text": [
            "[0, 1, 1]\n",
            "[0, 1, 1, 2]\n",
            "[0, 1, 1, 2, 3]\n",
            "[0, 1, 1, 2, 3, 5]\n",
            "[0, 1, 1, 2, 3, 5, 8]\n",
            "[0, 1, 1, 2, 3, 5, 8, 13]\n",
            "[0, 1, 1, 2, 3, 5, 8, 13, 21]\n",
            "[0, 1, 1, 2, 3, 5, 8, 13, 21, 34]\n"
          ]
        },
        {
          "output_type": "execute_result",
          "data": {
            "text/plain": [
              "21"
            ]
          },
          "metadata": {},
          "execution_count": 27
        }
      ]
    },
    {
      "cell_type": "code",
      "source": [
        "#print numbers from n to one\n",
        "def rec(num):\n",
        "  if num==0:\n",
        "    return\n",
        "  print(num)\n",
        "  rec(num-1)\n",
        "\n",
        "\n",
        "rec(3)"
      ],
      "metadata": {
        "colab": {
          "base_uri": "https://localhost:8080/"
        },
        "id": "UW0Jd9zLsgsx",
        "outputId": "2ea70b18-6db9-432b-d8a3-74db1a7dc9fe"
      },
      "execution_count": null,
      "outputs": [
        {
          "output_type": "stream",
          "name": "stdout",
          "text": [
            "3\n",
            "2\n",
            "1\n"
          ]
        }
      ]
    },
    {
      "cell_type": "code",
      "source": [
        "#print even no. from one to n:\n",
        "def print_even(n):\n",
        "    if n <= 0:\n",
        "        return\n",
        "    print_even(n - 1)\n",
        "    if n % 2 == 0:\n",
        "        print(n)\n",
        "\n",
        "# Example usage\n",
        "limit = 6\n",
        "print_even(limit)\n"
      ],
      "metadata": {
        "colab": {
          "base_uri": "https://localhost:8080/"
        },
        "id": "yiGgTuz06b9L",
        "outputId": "dbe58fa3-0bf4-4a4c-f4e4-766456753eff",
        "collapsed": true
      },
      "execution_count": null,
      "outputs": [
        {
          "output_type": "stream",
          "name": "stdout",
          "text": [
            "2\n",
            "4\n",
            "6\n"
          ]
        }
      ]
    },
    {
      "cell_type": "code",
      "source": [
        "#print odd numbers using recurrsion :\n",
        "def print_odd(n):\n",
        "  if n<0:\n",
        "    return\n",
        "  print(n)\n",
        "  print_odd(n-2)\n",
        "#this is another\n",
        "print_odd(5)\n",
        "#this is one type to call the func\n",
        "n=5\n",
        "print_odd(n-1 if n%2==0 else n)"
      ],
      "metadata": {
        "colab": {
          "base_uri": "https://localhost:8080/"
        },
        "collapsed": true,
        "id": "HsSAq9cP77Ye",
        "outputId": "79de1771-a35d-4c50-9dc6-2115ae64d5d7"
      },
      "execution_count": null,
      "outputs": [
        {
          "output_type": "stream",
          "name": "stdout",
          "text": [
            "5\n",
            "3\n",
            "1\n",
            "5\n",
            "3\n",
            "1\n"
          ]
        }
      ]
    },
    {
      "cell_type": "code",
      "source": [
        "#print sum of given range  using recurssion\n",
        "#without returning a value\n",
        "def sum_range(start,end):\n",
        "  if start>end:\n",
        "    return 0\n",
        "  return start+sum_range(start+1,end)\n",
        "sum_range(1,5)\n"
      ],
      "metadata": {
        "colab": {
          "base_uri": "https://localhost:8080/"
        },
        "id": "tCc6JrFr-myw",
        "outputId": "7c846d12-0b08-4d95-f78f-7282234540de"
      },
      "execution_count": null,
      "outputs": [
        {
          "output_type": "execute_result",
          "data": {
            "text/plain": [
              "15"
            ]
          },
          "metadata": {},
          "execution_count": 28
        }
      ]
    },
    {
      "cell_type": "code",
      "source": [
        "#print sum of given range  using recurssion\n",
        "#with returning a value\n",
        "def sum_range(n):\n",
        "  if n==1:\n",
        "    return 1\n",
        "  return n+sum_range(n-1)\n",
        "\n",
        "res=sum_range(5)\n",
        "print(res)"
      ],
      "metadata": {
        "colab": {
          "base_uri": "https://localhost:8080/"
        },
        "id": "kMt0EVpxBM1Q",
        "outputId": "0a94a069-a9ec-4ccc-a50b-38b91fe35b4e"
      },
      "execution_count": null,
      "outputs": [
        {
          "output_type": "stream",
          "name": "stdout",
          "text": [
            "15\n"
          ]
        }
      ]
    },
    {
      "cell_type": "code",
      "source": [
        "#Factorial of a given number using recurssion\n",
        "def factorial(n):\n",
        "  if n==1:\n",
        "    return 1\n",
        "  return n*factorial(n-1)\n",
        "\n",
        "factorial(5)"
      ],
      "metadata": {
        "colab": {
          "base_uri": "https://localhost:8080/"
        },
        "id": "NDiw7ejwAPLg",
        "outputId": "91e12a80-e6a0-47b3-e319-08b40497d054"
      },
      "execution_count": null,
      "outputs": [
        {
          "output_type": "execute_result",
          "data": {
            "text/plain": [
              "120"
            ]
          },
          "metadata": {},
          "execution_count": 30
        }
      ]
    },
    {
      "cell_type": "markdown",
      "source": [],
      "metadata": {
        "id": "_MdBwkZ_-mg0"
      }
    },
    {
      "cell_type": "code",
      "source": [
        "# find max,min in a given list using recurssion\n",
        "def find_max(lst, n):\n",
        "    if n == 1:\n",
        "        return lst[0]\n",
        "    return max(lst[n-1], find_max(lst, n-1))\n",
        "\n",
        "def find_min(lst, n):\n",
        "    if n == 1:\n",
        "        return lst[0]\n",
        "    return min(lst[n-1], find_min(lst, n-1))\n",
        "\n",
        "# Example usage\n",
        "numbers = [4, 8, 1, 9, 2, 7]\n",
        "print(\"Max:\", find_max(numbers, len(numbers)))\n",
        "print(\"Min:\", find_min(numbers, len(numbers)))\n"
      ],
      "metadata": {
        "colab": {
          "base_uri": "https://localhost:8080/"
        },
        "id": "A4wRzPSuBQX7",
        "outputId": "7651b421-107c-4799-91f8-409125a9f0c9"
      },
      "execution_count": null,
      "outputs": [
        {
          "output_type": "stream",
          "name": "stdout",
          "text": [
            "Max: 9\n",
            "Min: 1\n"
          ]
        }
      ]
    },
    {
      "cell_type": "code",
      "source": [
        "# sum of all values in a given list\n",
        "def sum_list(index,nums,n):\n",
        "  if index==n:\n",
        "    return 0\n",
        "  return (nums[index]+sum_list(index+1,nums,n))\n",
        "#example\n",
        "nums=[1,2,3]\n",
        "res=sum_list(0,nums,len(nums))\n",
        "print(res)"
      ],
      "metadata": {
        "colab": {
          "base_uri": "https://localhost:8080/"
        },
        "id": "gEPrhk_cEQMj",
        "outputId": "319e6a17-bdb9-4ebc-be91-8d6e7c2ca8dc"
      },
      "execution_count": null,
      "outputs": [
        {
          "output_type": "stream",
          "name": "stdout",
          "text": [
            "6\n"
          ]
        }
      ]
    },
    {
      "cell_type": "code",
      "source": [
        "#sum of given list by slicing ,using recurssion\n",
        "def sum_list_byslicing(nums):\n",
        "  if len(nums)==1:\n",
        "    return nums[0]\n",
        "  return nums[0]+sum_list_byslicing(nums[1:])\n",
        "nums=[1,2,3,4,5]\n",
        "sum_list_byslicing(nums)\n",
        "\n"
      ],
      "metadata": {
        "colab": {
          "base_uri": "https://localhost:8080/"
        },
        "id": "M8odN1tXFrQi",
        "outputId": "a8cba441-04cb-4646-bdef-f05f9e4dca14"
      },
      "execution_count": null,
      "outputs": [
        {
          "output_type": "execute_result",
          "data": {
            "text/plain": [
              "15"
            ]
          },
          "metadata": {},
          "execution_count": 52
        }
      ]
    },
    {
      "cell_type": "code",
      "source": [
        "#-------------------palimdrome using recurssion-------------\n",
        "def palindrome(leftindex,nums,rightindes):\n",
        "  if leftindex>=rightindex:\n",
        "    return True\n",
        "  if nums[leftindex]!=nums[rightindex]:\n",
        "    return False\n",
        "  return palindrome(leftindex+1,nums,rightindex-1)\n",
        "\n",
        "\n",
        "\n",
        "nums=[1,2,3,4]\n",
        "palindrome(0,nums,len(nums)):\n",
        "\n"
      ],
      "metadata": {
        "colab": {
          "base_uri": "https://localhost:8080/",
          "height": 106
        },
        "id": "GT0IDaXiIyar",
        "outputId": "e683bf65-a4a5-41f9-ff1a-f66ca7889e3f"
      },
      "execution_count": null,
      "outputs": [
        {
          "output_type": "error",
          "ename": "SyntaxError",
          "evalue": "invalid syntax (ipython-input-2636534789.py, line 11)",
          "traceback": [
            "\u001b[0;36m  File \u001b[0;32m\"/tmp/ipython-input-2636534789.py\"\u001b[0;36m, line \u001b[0;32m11\u001b[0m\n\u001b[0;31m    nums=\u001b[0m\n\u001b[0m         ^\u001b[0m\n\u001b[0;31mSyntaxError\u001b[0m\u001b[0;31m:\u001b[0m invalid syntax\n"
          ]
        }
      ]
    },
    {
      "cell_type": "code",
      "source": [
        "#-------------------palimdrome using recurssion-------------\n",
        "def palindrome(leftindex,nums,rightindex):\n",
        "  if leftindex>=rightindex:\n",
        "    return True\n",
        "  if nums[leftindex]!=nums[rightindex]:\n",
        "    return False\n",
        "  return palindrome(leftindex+1,nums,rightindex-1)\n",
        "\n",
        "\n",
        "\n",
        "nums=[1,2,3,4]\n",
        "palindrome(0,nums,len(nums)-1):\n"
      ],
      "metadata": {
        "colab": {
          "base_uri": "https://localhost:8080/",
          "height": 106
        },
        "id": "p8E5WAefMG_c",
        "outputId": "0181bcdc-0b7e-40af-a9b9-39857b30662a"
      },
      "execution_count": null,
      "outputs": [
        {
          "output_type": "error",
          "ename": "SyntaxError",
          "evalue": "invalid syntax (ipython-input-2903902441.py, line 12)",
          "traceback": [
            "\u001b[0;36m  File \u001b[0;32m\"/tmp/ipython-input-2903902441.py\"\u001b[0;36m, line \u001b[0;32m12\u001b[0m\n\u001b[0;31m    palindrome(0,nums,len(nums)-1):\u001b[0m\n\u001b[0m                                  ^\u001b[0m\n\u001b[0;31mSyntaxError\u001b[0m\u001b[0;31m:\u001b[0m invalid syntax\n"
          ]
        }
      ]
    }
  ]
}